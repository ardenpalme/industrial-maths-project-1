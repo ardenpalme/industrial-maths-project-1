{
 "cells": [
  {
   "cell_type": "markdown",
   "id": "60b414f0-ff37-4e9a-9d31-5618682b6b54",
   "metadata": {},
   "source": [
    "$S(x,t)$ is sampled at $M$ positions along the conveyor belt periodically for $N$ time intervals $\\Delta t$   $S^n_m=S(x_m,t_n)$ \n",
    "\n",
    "The height of the sandpile at the beginning of the conveyor belt is $H_0(t)=0$  <em>(Dirichlet)</em>\n",
    "\n",
    "The rate at which the sand falls of the end of the conveyor belt is proportional to the height of the sand pile? $\\partial_x h(L,t)=\\alpha h(L,t)$ <em>(Robin)</em>\n",
    "\n",
    "$$\n",
    "\\begin{align}\n",
    "AH^{n+1} &= b\\quad \\text{where}\\quad b=H^n + S^n\\Delta t \\tag{1}\\\\\n",
    "H_M^{n+1} &= (2\\alpha \\Delta x) H_{M-1}^{n+1} + H_{M-2}^{n+1}\\\\\n",
    "H_0 &= 0 \n",
    "\\end{align}\n",
    "$$"
   ]
  },
  {
   "cell_type": "markdown",
   "id": "a0ac9bc5-49b7-4e78-a0bc-565dbf6f4224",
   "metadata": {},
   "source": [
    "Assume that sand is dispensed at the beginning of the conveyor belt. \n",
    "Sand is poured into a funnel from another process from above, and falls through the funnel onto the beginning of the conveyor belt to be transported and subsequently processed.\n",
    "Assume that the lower end of the funnel measures 15cm in diamter. \n",
    "$$\n",
    "S(x,t) = \n",
    "\\begin{cases}\n",
    "0.02 & \\text{if } 0<x\\leq 0.15 \\\\\n",
    "0  & \\text{otherwise}\n",
    "\\end{cases}\n",
    "$$\n"
   ]
  },
  {
   "cell_type": "code",
   "execution_count": 29,
   "id": "17231a29-519b-4aaf-8704-d604ece58d85",
   "metadata": {},
   "outputs": [],
   "source": [
    "import numpy as np\n",
    "import matplotlib.pyplot as plt\n",
    "from scipy.sparse        import diags_array\n",
    "from scipy.sparse.linalg import spsolve"
   ]
  },
  {
   "cell_type": "code",
   "execution_count": 30,
   "id": "7860a6d5-f133-4951-a752-f950f16f41c8",
   "metadata": {},
   "outputs": [],
   "source": [
    "L= 10.0 # 10m convyer belt, longest possible\n",
    "v= 0.375 # advection velocity, mid point of suggested speeds\n",
    "D= 0.02 # diffusion coefficient, small spreading of sand\n",
    "\n",
    "s = 0.02 # source term, cont. rate of sand being added\n",
    "s_lim = 0.15 \n",
    "\n",
    "Nx = 200; Nt = 200\n",
    "T = 40 # simulation length in seconds\n",
    "\n",
    "x = np.linspace(0, L, Nx+1)\n",
    "dx = x[1] - x[0] # grid spacing for finite differences\n",
    "\n",
    "t = np.linspace(0, T, Nt+1)\n",
    "dt = t[1] - t[0]"
   ]
  },
  {
   "cell_type": "markdown",
   "id": "450e1780-dfb8-4e6e-9ccb-37cb0061b81e",
   "metadata": {},
   "source": [
    "We solve the tridiagonal system in equation (1)"
   ]
  },
  {
   "cell_type": "code",
   "execution_count": 31,
   "id": "b355cacf-a5ab-4a2e-97db-c3183618f3b6",
   "metadata": {},
   "outputs": [],
   "source": [
    "C = (D*dt)/(dx**2)\n",
    "U = (v*dt)/dx"
   ]
  },
  {
   "cell_type": "code",
   "execution_count": 32,
   "id": "8c7536b7-fc87-4934-ac14-076488defa6d",
   "metadata": {},
   "outputs": [],
   "source": [
    "# Store data in sparse format to prevent the memory allocation of M² - M + 2 zeros\n",
    "Nx=10\n",
    "\n",
    "# Values on the three non-zero diagonals\n",
    "diags = np.ones((3,Nx+1))\n",
    "\n",
    "# Add 2C to main diagonal (first index = 0 represents the main diagonal here)\n",
    "diags[0] += 2 * C + U          \n",
    "\n",
    "# The upper and lower diagonals are -C except in the first/last row, which we will deal with next\n",
    "diags[1] = - 1 - C - U\n",
    "diags[2] = - 1 - C\n",
    "\n",
    "# Fix the upper diagonal in the first row (the first entry should be -2C)\n",
    "diags[1,0] = 0\n",
    "\n",
    "# Fix the lower diagonal in the last row (the penultimate entry should be -2C - the last is ignored when making A)\n",
    "diags[2,-2] = 0\n",
    "\n",
    "# Create the matrix, taking care of the order in which we defined the diagonals\n",
    "# format = 'csr' defines a sparse matrix\n",
    "A = diags_array(diags, offsets = (0,1,-1), shape = (Nx+1, Nx+1), format = 'csr')"
   ]
  },
  {
   "cell_type": "code",
   "execution_count": null,
   "id": "c1c894f1-b82d-4fe1-b397-20a96d14f4d6",
   "metadata": {},
   "outputs": [],
   "source": [
    "# ** Initialize output ** #\n",
    "\n",
    "# Preallocate the numerical solution in a matrix: \n",
    "# the first dimension is time and the second is space; i.e., each row corresponds to a timestep\n",
    "H = np.zeros((N+1,M+1))\n",
    "S = np.zeros((N+1,M+1))\n",
    "\n",
    "H[0] = 0\n",
    "# Enforce boundary conditions for all space points\n",
    "H[:,0] = 0\n",
    "H[:,]\n",
    "\n",
    "for i in range(Nx+1):\n",
    "    if(i*dx < s_lim) S[:,i] = s\n",
    "\n",
    "# Also store exact solution\n",
    "#U_ex = np.zeros((N+1,M+1))\n",
    "\n",
    "# ** Iterate ** #\n",
    "for n in range(0, N):\n",
    "    # Solve linear system instead of computing the inverse: \n",
    "    # computing the inverse is expensive and numerically instable \n",
    "    # SciPy has a subroutine for sparse matrices, but if you want to stick to NumPy, \n",
    "    # you can instead use: np.linalg.solve(A.toarray(),U[n])\n",
    "    U[n+1] = spsolve(A, U[n] + S[n])\n",
    "    #U_ex[n] = U_exact_1(x,t[n])\n",
    "\n",
    "# Feel free to compare the solution as before:\n",
    "#plotting(U_ex,x,t, U_exact_1)"
   ]
  }
 ],
 "metadata": {
  "kernelspec": {
   "display_name": "Python 3 (ipykernel)",
   "language": "python",
   "name": "python3"
  },
  "language_info": {
   "codemirror_mode": {
    "name": "ipython",
    "version": 3
   },
   "file_extension": ".py",
   "mimetype": "text/x-python",
   "name": "python",
   "nbconvert_exporter": "python",
   "pygments_lexer": "ipython3",
   "version": "3.13.5"
  }
 },
 "nbformat": 4,
 "nbformat_minor": 5
}
